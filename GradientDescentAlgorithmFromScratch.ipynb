{
 "cells": [
  {
   "cell_type": "code",
   "execution_count": 30,
   "metadata": {},
   "outputs": [],
   "source": [
    "import numpy as np\n",
    "import pandas as pd\n",
    "import matplotlib.pyplot as plt"
   ]
  },
  {
   "cell_type": "code",
   "execution_count": 31,
   "metadata": {},
   "outputs": [],
   "source": [
    "df = pd.read_csv(\"data.csv\")"
   ]
  },
  {
   "cell_type": "code",
   "execution_count": 32,
   "metadata": {},
   "outputs": [],
   "source": [
    "X = df.iloc[:,0]\n",
    "y = df.iloc[:,1]"
   ]
  },
  {
   "cell_type": "code",
   "execution_count": 33,
   "metadata": {},
   "outputs": [
    {
     "data": {
      "text/plain": [
       "<matplotlib.collections.PathCollection at 0x120ebd08>"
      ]
     },
     "execution_count": 33,
     "metadata": {},
     "output_type": "execute_result"
    },
    {
     "data": {
      "image/png": "[encoded data removed]",
      "text/plain": [
       "<Figure size 432x288 with 1 Axes>"
      ]
     },
     "metadata": {
      "needs_background": "light"
     },
     "output_type": "display_data"
    }
   ],
   "source": [
    "plt.scatter(X,y)"
   ]
  },
  {
   "cell_type": "code",
   "execution_count": 34,
   "metadata": {},
   "outputs": [],
   "source": [
    "def gradient_descent(X, y, learning_rate, nbr_iterations):\n",
    "    theta_0 = 0\n",
    "    theta_1 = 0\n",
    "    m = len(X)\n",
    "    for i in range(nbr_iterations):\n",
    "        y_predictions = theta_0 + theta_1 * X\n",
    "        d_theta_0 = (2/m) * sum(y_predictions - y) #Derivative of MSE Function with respect to theta_0\n",
    "        d_theta_1 = (2/m) * sum(X * (y_predictions - y)) #Derivative of MSE Function with respect to theta_1\n",
    "        \n",
    "        #Plotting and Showing the polts\n",
    "        #plt.scatter(X, y)\n",
    "        #plt.plot([min(X),max(X)],[min(y_predictions),max(y_predictions)], color='red')\n",
    "        #plt.show()\n",
    "        \n",
    "        theta_0 -= (learning_rate * d_theta_0)\n",
    "        theta_1 -= (learning_rate * d_theta_1)\n",
    "        \n",
    "        \n",
    "    return theta_0, theta_1"
   ]
  },
  {
   "cell_type": "code",
   "execution_count": 40,
   "metadata": {},
   "outputs": [],
   "source": [
    "t0,t1 = gradient_descent(X, y, 0.0001, 1000)"
   ]
  },
  {
   "cell_type": "code",
   "execution_count": 41,
   "metadata": {},
   "outputs": [
    {
     "name": "stdout",
     "output_type": "stream",
     "text": [
      "b =  0.10148121494753726 \n",
      "m =  1.4796491688889395\n"
     ]
    }
   ],
   "source": [
    "print(\"b = \",t0 , \"\\nm = \",t1)"
   ]
  },
  {
   "cell_type": "code",
   "execution_count": null,
   "metadata": {},
   "outputs": [],
   "source": []
  }
 ],
 "metadata": {
  "kernelspec": {
   "display_name": "Python 3",
   "language": "python",
   "name": "python3"
  },
  "language_info": {
   "codemirror_mode": {
    "name": "ipython",
    "version": 3
   },
   "file_extension": ".py",
   "mimetype": "text/x-python",
   "name": "python",
   "nbconvert_exporter": "python",
   "pygments_lexer": "ipython3",
   "version": "3.7.4"
  }
 },
 "nbformat": 4,
 "nbformat_minor": 2
}
